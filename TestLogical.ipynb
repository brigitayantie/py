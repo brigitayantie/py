{
  "nbformat": 4,
  "nbformat_minor": 0,
  "metadata": {
    "colab": {
      "name": "TestLogical.ipynb",
      "provenance": [],
      "authorship_tag": "ABX9TyNzHqOtYuEGXYRxx/jSaW6x",
      "include_colab_link": true
    },
    "kernelspec": {
      "name": "python3",
      "display_name": "Python 3"
    }
  },
  "cells": [
    {
      "cell_type": "markdown",
      "metadata": {
        "id": "view-in-github",
        "colab_type": "text"
      },
      "source": [
        "<a href=\"https://colab.research.google.com/github/brigitayantie/py/blob/master/TestLogical.ipynb\" target=\"_parent\"><img src=\"https://colab.research.google.com/assets/colab-badge.svg\" alt=\"Open In Colab\"/></a>"
      ]
    },
    {
      "cell_type": "code",
      "metadata": {
        "id": "AvDj0H6qiEdE"
      },
      "source": [
        ""
      ],
      "execution_count": null,
      "outputs": []
    },
    {
      "cell_type": "code",
      "metadata": {
        "id": "Nn3bsxnRUyIe",
        "outputId": "76cee76c-7cd9-4144-8021-dcb95c0eb582",
        "colab": {
          "base_uri": "https://localhost:8080/"
        }
      },
      "source": [
        "import statistics\n",
        "\n",
        "class Student:\n",
        "    def __init__(self, Student_ID, Student_Name,Major): #create object\n",
        "        self.Student_ID = Student_ID\n",
        "        self.Student_Name = Student_Name\n",
        "        self.Major = Major\n",
        "class Period:\n",
        "    max_capacity = 30\n",
        "    def __init__(self, Semester_ID, Year): #create object\n",
        "        self.Semester_ID = Semester_ID\n",
        "        self.Year = Year\n",
        "class Lecturer:\n",
        "    def __init__(self, Lecturer_ID, Lecturer_Name,Title,Departement_ID,Departement_Name): #create object\n",
        "        self.Lecturer_ID = Lecturer_ID\n",
        "        self.Lecturer_Name = Lecturer_Name\n",
        "        self.Title = Title\n",
        "        self.Departement_ID = Departement_ID\n",
        "        self.Departement_Name = Departement_Name\n",
        "class Course:\n",
        "    max_capacity = 40\n",
        "    def __init__(self, Course_Name,Section_Number,Course_ID,Units,Room_ID,Room_Capacity,Major):\n",
        "        self.Course_Name = Course_Name\n",
        "        self.Section_Number = Section_Number\n",
        "        self.Course_Id = Course_ID\n",
        "        self.Units = Units\n",
        "        self.Room_ID = Room_ID\n",
        "        self.Room_Capacity = Room_Capacity\n",
        "        self.students = []\n",
        "        self.lecturers = []\n",
        "    def add_lecturer(self, Lecturer_ID, Lecturer_Name,Title,Departement_ID,Departement_Name):\n",
        "        self.lecturers.append(Lecturer(Lecturer_ID, Lecturer_Name,Title,Departement_ID,Departement_Name))\n",
        "        \n",
        "    def add_student(self,Student_ID,Student_Name, Major):\n",
        "        if len(self.students) + 1 > Course.max_capacity:\n",
        "            print(\"Class is full\")\n",
        "        else:\n",
        "            self.students.append(Student(Student_ID,Student_Name,Major))\n",
        "    def class_avg(self):\n",
        "        return statistics.mean([s.grade for s in self.students])\n",
        "\n",
        "\n",
        "student1 = Student(\"1000\",\"Brigita\", \"Accounting\")\n",
        "lecturer1 = Lecturer(\"0001\", \"Yantie\",\"PHD\",\"Acc1\",\"Accounting\")\n",
        "period1 = Period(\"Semester1\",\"2005\") \n",
        "courseAcc = Course(\"AccountingBasic\",\"Acc1\",\"class1Acc1\",\"unit1\",\"room1\",40,\"Accounting\")\n",
        "courseAcc.add_student(\"1000\",\"Brigita\",\"Accounting\")\n",
        "courseAcc.add_student(\"1000\",\"Hermien\",\"Accounting\")\n",
        "for x in range(40):\n",
        "  courseAcc.add_student(\"1000\",\"Hermien\",\"Accounting\")\n",
        "courseAcc.add_student(\"1000\",\"Name\",\"Accounting\")\n",
        "courseAcc.add_lecturer(\"0001\", \"Yantie\",\"PHD\",\"Acc1\",\"Accounting\")\n",
        "courseAcc.lecturers\n",
        "#print([student.name for student in b.students])\n",
        "print([student.Student_Name for student in courseAcc.students])\n",
        "print([lecturer.Lecturer_Name for lecturer in courseAcc.lecturers])"
      ],
      "execution_count": null,
      "outputs": [
        {
          "output_type": "stream",
          "text": [
            "Class is full\n",
            "Class is full\n",
            "Class is full\n",
            "['Brigita', 'Hermien', 'Hermien', 'Hermien', 'Hermien', 'Hermien', 'Hermien', 'Hermien', 'Hermien', 'Hermien', 'Hermien', 'Hermien', 'Hermien', 'Hermien', 'Hermien', 'Hermien', 'Hermien', 'Hermien', 'Hermien', 'Hermien', 'Hermien', 'Hermien', 'Hermien', 'Hermien', 'Hermien', 'Hermien', 'Hermien', 'Hermien', 'Hermien', 'Hermien', 'Hermien', 'Hermien', 'Hermien', 'Hermien', 'Hermien', 'Hermien', 'Hermien', 'Hermien', 'Hermien', 'Hermien']\n",
            "['Yantie']\n"
          ],
          "name": "stdout"
        }
      ]
    },
    {
      "cell_type": "code",
      "metadata": {
        "id": "jRDzQhjhiKWl"
      },
      "source": [
        "\n",
        "def add(aab, aba):\n",
        "    return int(aab + aba)\n",
        "def subtract(aab, aba):\n",
        "    return int(aab - aba)\n",
        "def multiply(aab, aba):\n",
        "    return int(aab * aba)\n",
        "def divide(aab, aba):\n",
        "    return int(aab / aba)\n",
        "\n",
        "\n",
        "print(\"Select operation.\")\n",
        "print(\"1.Add\")\n",
        "print(\"2.Subtract\")\n",
        "print(\"3.Multiply\")\n",
        "print(\"4.Divide\")\n",
        "\n",
        "while True:\n",
        "    choice = input(\"Enter choice(1/2/3/4): \")\n",
        "\n",
        "    if choice in ('1', '2', '3', '4'):\n",
        "        baa = int(input(\"Enter first number: \"))\n",
        "        bba = int(input(\"Enter second number: \"))\n",
        "\n",
        "        if choice == '1':\n",
        "            print(baa, \"+\", bba, \"=\", add(baa, bba))\n",
        "\n",
        "        elif choice == '2':\n",
        "            print(baa, \"-\", bba, \"=\", subtract(baa, bba))\n",
        "\n",
        "        elif choice == '3':\n",
        "            print(baa, \"*\", bba, \"=\", multiply(baa, bba))\n",
        "\n",
        "        elif choice == '4':\n",
        "            print(baa, \"/\", bba, \"=\", divide(baa, bba))\n",
        "        break\n",
        "    else:\n",
        "        print(\"Invalid Input\")"
      ],
      "execution_count": null,
      "outputs": []
    },
    {
      "cell_type": "code",
      "metadata": {
        "id": "CcEoGde-iazj"
      },
      "source": [
        "\n",
        "aab = 0\n",
        "aba = 10\n",
        "\n",
        "print(\"Bilangan Prima antara\", aab, \"dan\", aba, \"adalah:\")\n",
        "\n",
        "for baa in range(aab, aba + 1):\n",
        "   if baa > 1:\n",
        "       for bba in range(2, baa):\n",
        "           if (baa % bba) == 0:\n",
        "               break\n",
        "       else:\n",
        "           print(baa)"
      ],
      "execution_count": null,
      "outputs": []
    }
  ]
}